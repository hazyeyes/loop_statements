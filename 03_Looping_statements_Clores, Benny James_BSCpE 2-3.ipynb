{
 "cells": [
  {
   "cell_type": "markdown",
   "metadata": {},
   "source": [
    "Lab 2 Exercise 1\n",
    "\n",
    "A teacher named Mrs. Rivera who loved making math fun for her students. One day, a student named Mia asked how to calculate powers, like (2^7). Mrs. Rivera explained, “Imagine you need to multiply 2 by itself seven times. We can solve this using a python code utilizing  special method called recursion to solve this,” \n",
    "Can you help the class of Mrs. Rivera by providing the recursive method to calculate powers?"
   ]
  },
  {
   "cell_type": "code",
   "execution_count": null,
   "metadata": {},
   "outputs": [],
   "source": [
    "def main():\n",
    "    integer = int(input(\"Enter the integer: \"))\n",
    "    exponent = int(input(\"Enter the exponent: \"))\n",
    "\n",
    "    exp = integer\n",
    "\n",
    "    for i in range (exponent - 1):\n",
    "        new_integer = integer * exp\n",
    "        integer = new_integer\n",
    "    \n",
    "    print(new_integer)\n",
    "\n",
    "main()"
   ]
  },
  {
   "cell_type": "markdown",
   "metadata": {},
   "source": [
    "Lab 2 Exercise 2\n",
    "\n",
    "Compute for the cube of integers. \n",
    "\n",
    "Steps:\n",
    "1. Input the size of the array.\n",
    "2. input the elements of the array\n",
    "3. display the cube of each element\n",
    "\n",
    "Sample output\n",
    "\n",
    "Enter the size of the array : 3\n",
    "\n",
    "Enter the elements separated by space: 3 10 20\n",
    "\n",
    "27\n",
    "\n",
    "1000\n",
    "\n",
    "8000"
   ]
  },
  {
   "cell_type": "code",
   "execution_count": null,
   "metadata": {},
   "outputs": [],
   "source": [
    "def main():\n",
    "    array_size = int(input(\"Enter the size of the array: \"))\n",
    "    elements = input(\"Enter the elements separated by space: \").split()\n",
    "    \n",
    "    elements = [int(num) for num in elements]\n",
    "\n",
    "    for num in elements:\n",
    "        print(num ** 3)\n",
    "\n",
    "main()"
   ]
  },
  {
   "cell_type": "markdown",
   "metadata": {},
   "source": [
    "Lab 2 Exercise 3\n",
    "\n",
    "Generate a hollow square based on the + integer input side length n."
   ]
  },
  {
   "cell_type": "code",
   "execution_count": null,
   "metadata": {},
   "outputs": [],
   "source": [
    "def main():\n",
    "    side_length = int(input(\"Enter the side length of the square: \"))\n",
    "\n",
    "    for i in range(side_length):\n",
    "        if i == 0 or i == side_length - 1:\n",
    "            print('x' * side_length) \n",
    "        else:\n",
    "            print('x' + ' ' * (side_length - 2) + 'x')  \n",
    "\n",
    "main()"
   ]
  },
  {
   "cell_type": "markdown",
   "metadata": {},
   "source": [
    "Lab 2 Exercise 4\n",
    "\n",
    "Generate an inverted right triangle of height n."
   ]
  },
  {
   "cell_type": "code",
   "execution_count": null,
   "metadata": {},
   "outputs": [],
   "source": [
    "def main():\n",
    "    tria_height = int(input(\"Enter the height of the triangles: \"))\n",
    "\n",
    "    for i in range(tria_height, 0, -1):\n",
    "        print(\"*\" * i)\n",
    "\n",
    "main()"
   ]
  }
 ],
 "metadata": {
  "kernelspec": {
   "display_name": "Python 3",
   "language": "python",
   "name": "python3"
  },
  "language_info": {
   "codemirror_mode": {
    "name": "ipython",
    "version": 3
   },
   "file_extension": ".py",
   "mimetype": "text/x-python",
   "name": "python",
   "nbconvert_exporter": "python",
   "pygments_lexer": "ipython3",
   "version": "3.12.6"
  }
 },
 "nbformat": 4,
 "nbformat_minor": 2
}
